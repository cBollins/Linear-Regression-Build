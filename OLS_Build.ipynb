{
 "cells": [
  {
   "cell_type": "markdown",
   "id": "7d0873a3",
   "metadata": {},
   "source": [
    "# Update\n",
    "\n",
    "The univariate approach is a strong approximation to the sklearn model, but the model needs a rebuild that aims to reduce the ordinary least squares:\n",
    "\n",
    "$ \\hat{\\beta}=\\left( \\mathbf{X}^T\\mathbf{X} \\right)^{-1}\\mathbf{X}^T\\mathbf{y} $\n",
    "\n",
    "- *$\\hat{\\beta}$=* OLS estimator\n",
    "- *$\\mathbf{X}$=* Matrix regressor variable (features)\n",
    "- *$\\mathbf{y}$=* Response value vector"
   ]
  },
  {
   "cell_type": "code",
   "execution_count": null,
   "id": "5ab2e5e8",
   "metadata": {},
   "outputs": [],
   "source": [
    "import numpy as np\n",
    "import pandas as pd\n",
    "import matplotlib.pyplot as plt\n",
    "\n",
    "# write a function for the OLS\n",
    "\n",
    "def beta_hat(X, y):\n",
    "    # ensure X, y are numpy arrays\n",
    "    X = np.array(X)\n",
    "    y = np.array(y)\n",
    "    return np.linalg.inv(X.T @ X) @ X.T @ y"
   ]
  },
  {
   "cell_type": "code",
   "execution_count": 16,
   "id": "9b784d25",
   "metadata": {},
   "outputs": [
    {
     "name": "stdout",
     "output_type": "stream",
     "text": [
      "Beta hat: [-18.         0.90625    0.75      -1.109375   0.         0.140625]\n"
     ]
    }
   ],
   "source": [
    "# Create the design matrix X, basically adding a column of ones for the intercept\n",
    "def design_matrix(X):\n",
    "    return np.hstack((np.ones((X.shape[0], 1)), X))\n",
    "\n",
    "# so, if we have a dataset with features X and target y, we can compute the coefficients\n",
    "X = np.array([[2, 2, 5, 4, 4], [4, 3, 1, 2, 5], [3, 4, 5, 1, 2]]) # Example feature matrix\n",
    "y = np.array([1, 4, 3]) # Example target vector\n",
    "\n",
    "# we have 3 observations and 5 features\n",
    "print(f\"Beta hat: {beta_hat(design_matrix(X), y)}\")"
   ]
  },
  {
   "cell_type": "code",
   "execution_count": null,
   "id": "e239866e",
   "metadata": {},
   "outputs": [
    {
     "name": "stdout",
     "output_type": "stream",
     "text": [
      "Beta hat: [-18.         0.90625    0.75      -1.109375   0.         0.140625]\n"
     ]
    }
   ],
   "source": [
    "# we might as well combine the two functions into one...\n",
    "def ols(X, y):\n",
    "    \"\"\"\n",
    "    OLS coefficients estimation.\n",
    "    \n",
    "    Takes a feature matrix X and a target vector y, ensures they are correct sizes and shape,\n",
    "    adds a column of ones to X for the intercept, and returns the OLS coefficients.\n",
    "\n",
    "    The output is:\n",
    "    the intercept, beta_0; followed by the coefficients for each feature, beta_1, ..., beta_p.\n",
    "    \"\"\"\n",
    "\n",
    "    # ensure X, y are numpy arrays\n",
    "    X = np.array(X)\n",
    "    y = np.array(y)\n",
    "\n",
    "    # if X is 1D, reshape\n",
    "    if X.ndim == 1:\n",
    "        X = X.reshape(-1, 1)\n",
    "\n",
    "    # ensure y is 1D. if not, then flatten\n",
    "    if y.ndim > 1:\n",
    "        y = y.flatten()\n",
    "\n",
    "    # check if the number of observations in X and y match\n",
    "    # this could be caused by flattening in cases where y is not a friendly shape\n",
    "    if X.shape[0] != y.shape[0]:\n",
    "        raise ValueError(\"X and y must match.\")\n",
    "\n",
    "    # column of ones\n",
    "    X = np.hstack((np.ones((X.shape[0], 1)), X))\n",
    "    return np.linalg.inv(X.T @ X) @ X.T @ y\n",
    "\n",
    "# try again and see if we get the same result\n",
    "print(f\"Beta hat: {ols(X, y)}\")"
   ]
  },
  {
   "cell_type": "code",
   "execution_count": 19,
   "id": "d10ca2da",
   "metadata": {},
   "outputs": [],
   "source": [
    "# now to predict y based on a new situation X\n",
    "def predict(X_test, beta):\n",
    "    # ensure X_test is numpy\n",
    "    X_test = np.array(X_test)\n",
    "\n",
    "    # if X_test is 1D, reshape\n",
    "    if X_test.ndim == 1:\n",
    "        X_test = X_test.reshape(-1, 1)\n",
    "\n",
    "    # add a column of ones for the intercept\n",
    "    X_test = np.hstack((np.ones((X_test.shape[0], 1)), X_test))\n",
    "\n",
    "    return X_test @ beta"
   ]
  },
  {
   "cell_type": "code",
   "execution_count": 20,
   "id": "a17cbc9c",
   "metadata": {},
   "outputs": [
    {
     "name": "stdout",
     "output_type": "stream",
     "text": [
      "Predictions: [-18.078125 -16.359375]\n"
     ]
    }
   ],
   "source": [
    "# try predicting with a new set of features\n",
    "X_test = np.array([[3, 2, 4, 5, 1], [1, 3, 2, 4, 5]]) # Example new feature matrix\n",
    "\n",
    "predictions = predict(X_test, ols(X, y))\n",
    "print(f\"Predictions: {predictions}\")"
   ]
  }
 ],
 "metadata": {
  "kernelspec": {
   "display_name": "Python 3",
   "language": "python",
   "name": "python3"
  },
  "language_info": {
   "codemirror_mode": {
    "name": "ipython",
    "version": 3
   },
   "file_extension": ".py",
   "mimetype": "text/x-python",
   "name": "python",
   "nbconvert_exporter": "python",
   "pygments_lexer": "ipython3",
   "version": "3.13.2"
  }
 },
 "nbformat": 4,
 "nbformat_minor": 5
}
