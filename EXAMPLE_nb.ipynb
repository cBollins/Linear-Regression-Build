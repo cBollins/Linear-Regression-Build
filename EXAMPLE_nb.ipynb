{
 "cells": [
  {
   "cell_type": "markdown",
   "id": "3621251a",
   "metadata": {},
   "source": [
    "# Example Use\n",
    "\n",
    "A short demonstration of the custom model against a industry standard '*sklearn LinearRegression*'"
   ]
  },
  {
   "cell_type": "code",
   "execution_count": 1,
   "id": "e5498ad7",
   "metadata": {},
   "outputs": [],
   "source": [
    "import numpy as np\n",
    "import matplotlib.pyplot as plt\n",
    "import pandas as pd\n",
    "import seaborn as sns\n",
    "\n",
    "# random seed for reproducibility\n",
    "R = 123\n",
    "\n",
    "# the model that we will use as a benchmark\n",
    "from sklearn.linear_model import LinearRegression\n",
    "\n",
    "from sklearn.metrics import mean_squared_error\n",
    "from sklearn.model_selection import train_test_split\n",
    "\n",
    "# use the regression from the .py file, that I have built\n",
    "# This is a custom regression model that we will compare against sklearn's LinearRegression\n",
    "from my_reg_OLS import *"
   ]
  },
  {
   "cell_type": "code",
   "execution_count": 2,
   "id": "b7dfa8fd",
   "metadata": {},
   "outputs": [
    {
     "data": {
      "text/html": [
       "<div>\n",
       "<style scoped>\n",
       "    .dataframe tbody tr th:only-of-type {\n",
       "        vertical-align: middle;\n",
       "    }\n",
       "\n",
       "    .dataframe tbody tr th {\n",
       "        vertical-align: top;\n",
       "    }\n",
       "\n",
       "    .dataframe thead th {\n",
       "        text-align: right;\n",
       "    }\n",
       "</style>\n",
       "<table border=\"1\" class=\"dataframe\">\n",
       "  <thead>\n",
       "    <tr style=\"text-align: right;\">\n",
       "      <th></th>\n",
       "      <th>TV</th>\n",
       "      <th>radio</th>\n",
       "      <th>newspaper</th>\n",
       "      <th>sales</th>\n",
       "    </tr>\n",
       "  </thead>\n",
       "  <tbody>\n",
       "    <tr>\n",
       "      <th>0</th>\n",
       "      <td>230.1</td>\n",
       "      <td>37.8</td>\n",
       "      <td>69.2</td>\n",
       "      <td>22.1</td>\n",
       "    </tr>\n",
       "    <tr>\n",
       "      <th>1</th>\n",
       "      <td>44.5</td>\n",
       "      <td>39.3</td>\n",
       "      <td>45.1</td>\n",
       "      <td>10.4</td>\n",
       "    </tr>\n",
       "    <tr>\n",
       "      <th>2</th>\n",
       "      <td>17.2</td>\n",
       "      <td>45.9</td>\n",
       "      <td>69.3</td>\n",
       "      <td>9.3</td>\n",
       "    </tr>\n",
       "    <tr>\n",
       "      <th>3</th>\n",
       "      <td>151.5</td>\n",
       "      <td>41.3</td>\n",
       "      <td>58.5</td>\n",
       "      <td>18.5</td>\n",
       "    </tr>\n",
       "    <tr>\n",
       "      <th>4</th>\n",
       "      <td>180.8</td>\n",
       "      <td>10.8</td>\n",
       "      <td>58.4</td>\n",
       "      <td>12.9</td>\n",
       "    </tr>\n",
       "    <tr>\n",
       "      <th>...</th>\n",
       "      <td>...</td>\n",
       "      <td>...</td>\n",
       "      <td>...</td>\n",
       "      <td>...</td>\n",
       "    </tr>\n",
       "    <tr>\n",
       "      <th>195</th>\n",
       "      <td>38.2</td>\n",
       "      <td>3.7</td>\n",
       "      <td>13.8</td>\n",
       "      <td>7.6</td>\n",
       "    </tr>\n",
       "    <tr>\n",
       "      <th>196</th>\n",
       "      <td>94.2</td>\n",
       "      <td>4.9</td>\n",
       "      <td>8.1</td>\n",
       "      <td>9.7</td>\n",
       "    </tr>\n",
       "    <tr>\n",
       "      <th>197</th>\n",
       "      <td>177.0</td>\n",
       "      <td>9.3</td>\n",
       "      <td>6.4</td>\n",
       "      <td>12.8</td>\n",
       "    </tr>\n",
       "    <tr>\n",
       "      <th>198</th>\n",
       "      <td>283.6</td>\n",
       "      <td>42.0</td>\n",
       "      <td>66.2</td>\n",
       "      <td>25.5</td>\n",
       "    </tr>\n",
       "    <tr>\n",
       "      <th>199</th>\n",
       "      <td>232.1</td>\n",
       "      <td>8.6</td>\n",
       "      <td>8.7</td>\n",
       "      <td>13.4</td>\n",
       "    </tr>\n",
       "  </tbody>\n",
       "</table>\n",
       "<p>200 rows × 4 columns</p>\n",
       "</div>"
      ],
      "text/plain": [
       "        TV  radio  newspaper  sales\n",
       "0    230.1   37.8       69.2   22.1\n",
       "1     44.5   39.3       45.1   10.4\n",
       "2     17.2   45.9       69.3    9.3\n",
       "3    151.5   41.3       58.5   18.5\n",
       "4    180.8   10.8       58.4   12.9\n",
       "..     ...    ...        ...    ...\n",
       "195   38.2    3.7       13.8    7.6\n",
       "196   94.2    4.9        8.1    9.7\n",
       "197  177.0    9.3        6.4   12.8\n",
       "198  283.6   42.0       66.2   25.5\n",
       "199  232.1    8.6        8.7   13.4\n",
       "\n",
       "[200 rows x 4 columns]"
      ]
     },
     "execution_count": 2,
     "metadata": {},
     "output_type": "execute_result"
    }
   ],
   "source": [
    "\"\"\"\n",
    "Import dataset for model performance comparison.\n",
    "This dataset contains advertising budgets and sales data.\n",
    "\"\"\"\n",
    "\n",
    "# load simple advertising dataset, credit given to selva86\n",
    "df = pd.read_csv('https://raw.githubusercontent.com/selva86/datasets/master/Advertising.csv')\n",
    "\n",
    "# removed \"unnamed: 0\" column, since we are only looking at the model performance for regression\n",
    "df = df.drop(columns=['Unnamed: 0'])\n",
    "df"
   ]
  },
  {
   "cell_type": "code",
   "execution_count": 3,
   "id": "a11ac819",
   "metadata": {},
   "outputs": [],
   "source": [
    "\"\"\"\n",
    "We have 3 features: TV, Radio, Newspaper\n",
    "And 1 target variable: Sales\n",
    "\"\"\"\n",
    "\n",
    "# define features and target variable\n",
    "X = df[['TV', 'radio', 'newspaper']]\n",
    "y = df['sales']"
   ]
  },
  {
   "cell_type": "code",
   "execution_count": 4,
   "id": "f6aebb01",
   "metadata": {},
   "outputs": [],
   "source": [
    "# split X and y into training and testing sets\n",
    "X_train, X_test, y_train, y_test = train_test_split(X, y, test_size=0.2, random_state=R)"
   ]
  },
  {
   "cell_type": "markdown",
   "id": "8b3da609",
   "metadata": {},
   "source": [
    "# Evaluate the performance of the custom regression model against the benchmark.\n",
    "This will include:\n",
    "1. Fitting both models to the same training data\n",
    "2. Making predictions over both models\n",
    "3. Calculating the mean squared error (MSE) for both models\n",
    "\n",
    "We will also look at plots of the target variable (sales) against some of the features and see if there are any differences."
   ]
  },
  {
   "cell_type": "code",
   "execution_count": 5,
   "id": "cf3d393f",
   "metadata": {},
   "outputs": [],
   "source": [
    "# fit sklearn's LinearRegression model\n",
    "sklearn_model = LinearRegression()\n",
    "sklearn_model.fit(X_train, y_train)\n",
    "\n",
    "# fit my model\n",
    "my_model = MyLinearReg(X_train, y_train)\n",
    "my_model.fit()\n",
    "\n",
    "# make predictions with both models\n",
    "y_pred_sklearn = sklearn_model.predict(X_test)\n",
    "y_pred_myreg = my_model.predict(X_test)"
   ]
  },
  {
   "cell_type": "code",
   "execution_count": 6,
   "id": "8d0dc453",
   "metadata": {},
   "outputs": [
    {
     "name": "stdout",
     "output_type": "stream",
     "text": [
      "Mean Squared Error (sklearn): 2.20301\n",
      "Mean Squared Error (MyLinearReg): 2.20301\n"
     ]
    }
   ],
   "source": [
    "# calculate mean squared error for both models\n",
    "mse_sklearn = mean_squared_error(y_test, y_pred_sklearn)\n",
    "mse_myreg = mean_squared_error(y_test, y_pred_myreg)\n",
    "\n",
    "# print the mean squared error for both models\n",
    "print(f\"Mean Squared Error (sklearn): {mse_sklearn:.5f}\")\n",
    "print(f\"Mean Squared Error (MyLinearReg): {mse_myreg:.5f}\")"
   ]
  },
  {
   "cell_type": "code",
   "execution_count": 7,
   "id": "b2f0f641",
   "metadata": {},
   "outputs": [
    {
     "name": "stdout",
     "output_type": "stream",
     "text": [
      "Coefficients (sklearn): [ 0.04558897  0.18653389 -0.00063032]\n",
      "Coefficients (MyLinearReg): [ 0.04558897  0.18653389 -0.00063032]\n",
      "\n",
      "Intercept (sklearn): 2.9242267872501273\n",
      "Intercept (MyLinearReg): 2.9242267872501544\n"
     ]
    }
   ],
   "source": [
    "# find the coefficients and intercepts of the models\n",
    "slope_sklearn = sklearn_model.coef_\n",
    "slope_myreg = my_model.get_coefficients()\n",
    "print(f\"Coefficients (sklearn): {slope_sklearn}\")\n",
    "print(f\"Coefficients (MyLinearReg): {slope_myreg}\\n\")\n",
    "\n",
    "# intercepts of the models\n",
    "int_sklearn = sklearn_model.intercept_\n",
    "int_myreg = my_model.get_intercept()\n",
    "print(f\"Intercept (sklearn): {int_sklearn}\")\n",
    "print(f\"Intercept (MyLinearReg): {int_myreg}\")"
   ]
  },
  {
   "cell_type": "markdown",
   "id": "35ebdf55",
   "metadata": {},
   "source": [
    "# Summary\n",
    "\n",
    "My regression build has come to the exact same conclusion as the sklearn LinearRegression model. The simple proof of concept is seemingly a success."
   ]
  },
  {
   "cell_type": "code",
   "execution_count": null,
   "id": "66c8f706",
   "metadata": {},
   "outputs": [],
   "source": [
    "# make predictions on the testing data\n",
    "y_pred_sklearn = sklearn_model.predict(X_test)\n",
    "y_pred_myreg = my_model.predict(X_test)"
   ]
  },
  {
   "cell_type": "code",
   "execution_count": 13,
   "id": "348af3c5",
   "metadata": {},
   "outputs": [
    {
     "data": {
      "image/png": "[encoded data removed]",
      "text/plain": [
       "<Figure size 800x600 with 1 Axes>"
      ]
     },
     "metadata": {},
     "output_type": "display_data"
    }
   ],
   "source": [
    "# plot the predictions of both models against the actual values\n",
    "plt.figure(figsize=(8, 6))\n",
    "\n",
    "plt.scatter(y_test, y_pred_sklearn, c='blue', label='Sklearn Predictions', alpha=0.5)\n",
    "plt.scatter(y_test, y_pred_myreg, c='red', label='My Model Predictions', alpha=0.5)\n",
    "plt.plot([y.min(), y.max()], [y.min(), y.max()], 'k--', lw=2, label='Ideal Prediction Line')\n",
    "plt.xlabel('Actual Sales')\n",
    "plt.ylabel('Predicted Sales')\n",
    "plt.title('Model Predictions vs Actual Sales')\n",
    "plt.legend()\n",
    "plt.show()"
   ]
  },
  {
   "cell_type": "markdown",
   "id": "a8dc293a",
   "metadata": {},
   "source": [
    "Unsurprisingly, both models predicted the same values, whatever performance metric we use is irrelevant and will be the same."
   ]
  }
 ],
 "metadata": {
  "kernelspec": {
   "display_name": "Python 3",
   "language": "python",
   "name": "python3"
  },
  "language_info": {
   "codemirror_mode": {
    "name": "ipython",
    "version": 3
   },
   "file_extension": ".py",
   "mimetype": "text/x-python",
   "name": "python",
   "nbconvert_exporter": "python",
   "pygments_lexer": "ipython3",
   "version": "3.13.2"
  }
 },
 "nbformat": 4,
 "nbformat_minor": 5
}
